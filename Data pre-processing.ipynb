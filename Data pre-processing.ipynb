{
 "cells": [
  {
   "cell_type": "code",
   "execution_count": 38,
   "metadata": {},
   "outputs": [
    {
     "name": "stdout",
     "output_type": "stream",
     "text": [
      "Collecting pyarabic\n",
      "  Downloading PyArabic-0.6.14-py3-none-any.whl (126 kB)\n",
      "Requirement already satisfied: six>=1.14.0 in c:\\users\\lenovo\\appdata\\local\\programs\\python\\python37\\lib\\site-packages (from pyarabic) (1.15.0)\n",
      "Installing collected packages: pyarabic\n",
      "Successfully installed pyarabic-0.6.14\n"
     ]
    },
    {
     "name": "stderr",
     "output_type": "stream",
     "text": [
      "WARNING: You are using pip version 21.3.1; however, version 22.0.4 is available.\n",
      "You should consider upgrading via the 'c:\\users\\lenovo\\appdata\\local\\programs\\python\\python37\\python.exe -m pip install --upgrade pip' command.\n"
     ]
    },
    {
     "name": "stdout",
     "output_type": "stream",
     "text": [
      "Collecting emoji\n",
      "  Downloading emoji-1.7.0.tar.gz (175 kB)\n",
      "  Preparing metadata (setup.py): started\n",
      "  Preparing metadata (setup.py): finished with status 'done'\n",
      "Building wheels for collected packages: emoji\n",
      "  Building wheel for emoji (setup.py): started\n",
      "  Building wheel for emoji (setup.py): finished with status 'done'\n",
      "  Created wheel for emoji: filename=emoji-1.7.0-py3-none-any.whl size=171052 sha256=d18db540c46e1a2d2a10dc00a1a21a244f5d5c748500e95f5f8c29119081e9ce\n",
      "  Stored in directory: c:\\users\\lenovo\\appdata\\local\\pip\\cache\\wheels\\8a\\4e\\b6\\57b01db010d17ef6ea9b40300af725ef3e210cb1acfb7ac8b6\n",
      "Successfully built emoji\n",
      "Installing collected packages: emoji\n",
      "Successfully installed emoji-1.7.0\n"
     ]
    },
    {
     "name": "stderr",
     "output_type": "stream",
     "text": [
      "WARNING: You are using pip version 21.3.1; however, version 22.0.4 is available.\n",
      "You should consider upgrading via the 'c:\\users\\lenovo\\appdata\\local\\programs\\python\\python37\\python.exe -m pip install --upgrade pip' command.\n"
     ]
    },
    {
     "name": "stdout",
     "output_type": "stream",
     "text": [
      "Collecting pystemmer\n",
      "  Downloading PyStemmer-2.0.1.tar.gz (559 kB)\n",
      "  Preparing metadata (setup.py): started\n",
      "  Preparing metadata (setup.py): finished with status 'done'\n",
      "Building wheels for collected packages: pystemmer\n",
      "  Building wheel for pystemmer (setup.py): started\n",
      "  Building wheel for pystemmer (setup.py): finished with status 'error'\n",
      "  Running setup.py clean for pystemmer\n",
      "Failed to build pystemmer\n",
      "Installing collected packages: pystemmer\n",
      "    Running setup.py install for pystemmer: started\n",
      "    Running setup.py install for pystemmer: finished with status 'error'\n"
     ]
    },
    {
     "name": "stderr",
     "output_type": "stream",
     "text": [
      "  ERROR: Command errored out with exit status 1:\n",
      "   command: 'c:\\users\\lenovo\\appdata\\local\\programs\\python\\python37\\python.exe' -u -c 'import io, os, sys, setuptools, tokenize; sys.argv[0] = '\"'\"'C:\\\\Users\\\\Lenovo\\\\AppData\\\\Local\\\\Temp\\\\pip-install-fb5xpuv1\\\\pystemmer_9a62d142f8ef4ba8baab4e340a1a9c35\\\\setup.py'\"'\"'; __file__='\"'\"'C:\\\\Users\\\\Lenovo\\\\AppData\\\\Local\\\\Temp\\\\pip-install-fb5xpuv1\\\\pystemmer_9a62d142f8ef4ba8baab4e340a1a9c35\\\\setup.py'\"'\"';f = getattr(tokenize, '\"'\"'open'\"'\"', open)(__file__) if os.path.exists(__file__) else io.StringIO('\"'\"'from setuptools import setup; setup()'\"'\"');code = f.read().replace('\"'\"'\\r\\n'\"'\"', '\"'\"'\\n'\"'\"');f.close();exec(compile(code, __file__, '\"'\"'exec'\"'\"'))' bdist_wheel -d 'C:\\Users\\Lenovo\\AppData\\Local\\Temp\\pip-wheel-_9yacdjl'\n",
      "       cwd: C:\\Users\\Lenovo\\AppData\\Local\\Temp\\pip-install-fb5xpuv1\\pystemmer_9a62d142f8ef4ba8baab4e340a1a9c35\\\n",
      "  Complete output (58 lines):\n",
      "  c:\\users\\lenovo\\appdata\\local\\programs\\python\\python37\\lib\\site-packages\\setuptools\\installer.py:30: SetuptoolsDeprecationWarning: setuptools.installer is deprecated. Requirements should be satisfied by a PEP 517 installer.\n",
      "    SetuptoolsDeprecationWarning,\n",
      "  running bdist_wheel\n",
      "  running build\n",
      "  running build_ext\n",
      "  c:\\users\\lenovo\\appdata\\local\\temp\\pip-install-fb5xpuv1\\pystemmer_9a62d142f8ef4ba8baab4e340a1a9c35\\.eggs\\cython-0.29.28-py3.7.egg\\Cython\\Compiler\\Main.py:369: FutureWarning: Cython directive 'language_level' not set, using 2 for now (Py2). This will change in a later release! File: C:\\Users\\Lenovo\\AppData\\Local\\Temp\\pip-install-fb5xpuv1\\pystemmer_9a62d142f8ef4ba8baab4e340a1a9c35\\src\\Stemmer.pyx\n",
      "    tree = Parsing.p_module(s, pxd, full_module_name)\n",
      "  Traceback (most recent call last):\n",
      "    File \"<string>\", line 1, in <module>\n",
      "    File \"C:\\Users\\Lenovo\\AppData\\Local\\Temp\\pip-install-fb5xpuv1\\pystemmer_9a62d142f8ef4ba8baab4e340a1a9c35\\setup.py\", line 198, in <module>\n",
      "      cmdclass={'bootstrap': BootstrapCommand}\n",
      "    File \"c:\\users\\lenovo\\appdata\\local\\programs\\python\\python37\\lib\\site-packages\\setuptools\\__init__.py\", line 155, in setup\n",
      "      return distutils.core.setup(**attrs)\n",
      "    File \"c:\\users\\lenovo\\appdata\\local\\programs\\python\\python37\\lib\\site-packages\\setuptools\\_distutils\\core.py\", line 148, in setup\n",
      "      return run_commands(dist)\n",
      "    File \"c:\\users\\lenovo\\appdata\\local\\programs\\python\\python37\\lib\\site-packages\\setuptools\\_distutils\\core.py\", line 163, in run_commands\n",
      "      dist.run_commands()\n",
      "    File \"c:\\users\\lenovo\\appdata\\local\\programs\\python\\python37\\lib\\site-packages\\setuptools\\_distutils\\dist.py\", line 967, in run_commands\n",
      "      self.run_command(cmd)\n",
      "    File \"c:\\users\\lenovo\\appdata\\local\\programs\\python\\python37\\lib\\site-packages\\setuptools\\_distutils\\dist.py\", line 986, in run_command\n",
      "      cmd_obj.run()\n",
      "    File \"c:\\users\\lenovo\\appdata\\local\\programs\\python\\python37\\lib\\site-packages\\wheel\\bdist_wheel.py\", line 290, in run\n",
      "      self.run_command('build')\n",
      "    File \"c:\\users\\lenovo\\appdata\\local\\programs\\python\\python37\\lib\\site-packages\\setuptools\\_distutils\\cmd.py\", line 313, in run_command\n",
      "      self.distribution.run_command(command)\n",
      "    File \"c:\\users\\lenovo\\appdata\\local\\programs\\python\\python37\\lib\\site-packages\\setuptools\\_distutils\\dist.py\", line 986, in run_command\n",
      "      cmd_obj.run()\n",
      "    File \"c:\\users\\lenovo\\appdata\\local\\programs\\python\\python37\\lib\\site-packages\\setuptools\\_distutils\\command\\build.py\", line 135, in run\n",
      "      self.run_command(cmd_name)\n",
      "    File \"c:\\users\\lenovo\\appdata\\local\\programs\\python\\python37\\lib\\site-packages\\setuptools\\_distutils\\cmd.py\", line 313, in run_command\n",
      "      self.distribution.run_command(command)\n",
      "    File \"c:\\users\\lenovo\\appdata\\local\\programs\\python\\python37\\lib\\site-packages\\setuptools\\_distutils\\dist.py\", line 986, in run_command\n",
      "      cmd_obj.run()\n",
      "    File \"c:\\users\\lenovo\\appdata\\local\\programs\\python\\python37\\lib\\site-packages\\setuptools\\command\\build_ext.py\", line 79, in run\n",
      "      _build_ext.run(self)\n",
      "    File \"c:\\users\\lenovo\\appdata\\local\\temp\\pip-install-fb5xpuv1\\pystemmer_9a62d142f8ef4ba8baab4e340a1a9c35\\.eggs\\cython-0.29.28-py3.7.egg\\Cython\\Distutils\\old_build_ext.py\", line 186, in run\n",
      "      _build_ext.build_ext.run(self)\n",
      "    File \"c:\\users\\lenovo\\appdata\\local\\programs\\python\\python37\\lib\\site-packages\\setuptools\\_distutils\\command\\build_ext.py\", line 339, in run\n",
      "      self.build_extensions()\n",
      "    File \"c:\\users\\lenovo\\appdata\\local\\temp\\pip-install-fb5xpuv1\\pystemmer_9a62d142f8ef4ba8baab4e340a1a9c35\\.eggs\\cython-0.29.28-py3.7.egg\\Cython\\Distutils\\old_build_ext.py\", line 195, in build_extensions\n",
      "      _build_ext.build_ext.build_extensions(self)\n",
      "    File \"c:\\users\\lenovo\\appdata\\local\\programs\\python\\python37\\lib\\site-packages\\setuptools\\_distutils\\command\\build_ext.py\", line 448, in build_extensions\n",
      "      self._build_extensions_serial()\n",
      "    File \"c:\\users\\lenovo\\appdata\\local\\programs\\python\\python37\\lib\\site-packages\\setuptools\\_distutils\\command\\build_ext.py\", line 473, in _build_extensions_serial\n",
      "      self.build_extension(ext)\n",
      "    File \"c:\\users\\lenovo\\appdata\\local\\programs\\python\\python37\\lib\\site-packages\\setuptools\\command\\build_ext.py\", line 202, in build_extension\n",
      "      _build_ext.build_extension(self, ext)\n",
      "    File \"c:\\users\\lenovo\\appdata\\local\\programs\\python\\python37\\lib\\site-packages\\setuptools\\_distutils\\command\\build_ext.py\", line 534, in build_extension\n",
      "      depends=ext.depends)\n",
      "    File \"c:\\users\\lenovo\\appdata\\local\\programs\\python\\python37\\lib\\site-packages\\setuptools\\_distutils\\_msvccompiler.py\", line 327, in compile\n",
      "      self.initialize()\n",
      "    File \"c:\\users\\lenovo\\appdata\\local\\programs\\python\\python37\\lib\\site-packages\\setuptools\\_distutils\\_msvccompiler.py\", line 224, in initialize\n",
      "      vc_env = _get_vc_env(plat_spec)\n",
      "    File \"c:\\users\\lenovo\\appdata\\local\\programs\\python\\python37\\lib\\site-packages\\setuptools\\msvc.py\", line 316, in msvc14_get_vc_env\n",
      "      return _msvc14_get_vc_env(plat_spec)\n",
      "    File \"c:\\users\\lenovo\\appdata\\local\\programs\\python\\python37\\lib\\site-packages\\setuptools\\msvc.py\", line 271, in _msvc14_get_vc_env\n",
      "      \"Unable to find vcvarsall.bat\"\n",
      "  setuptools._distutils.errors.DistutilsPlatformError: Microsoft Visual C++ 14.0 or greater is required. Get it with \"Microsoft C++ Build Tools\": https://visualstudio.microsoft.com/visual-cpp-build-tools/\n",
      "  ----------------------------------------\n",
      "  ERROR: Failed building wheel for pystemmer\n",
      "    ERROR: Command errored out with exit status 1:\n",
      "     command: 'c:\\users\\lenovo\\appdata\\local\\programs\\python\\python37\\python.exe' -u -c 'import io, os, sys, setuptools, tokenize; sys.argv[0] = '\"'\"'C:\\\\Users\\\\Lenovo\\\\AppData\\\\Local\\\\Temp\\\\pip-install-fb5xpuv1\\\\pystemmer_9a62d142f8ef4ba8baab4e340a1a9c35\\\\setup.py'\"'\"'; __file__='\"'\"'C:\\\\Users\\\\Lenovo\\\\AppData\\\\Local\\\\Temp\\\\pip-install-fb5xpuv1\\\\pystemmer_9a62d142f8ef4ba8baab4e340a1a9c35\\\\setup.py'\"'\"';f = getattr(tokenize, '\"'\"'open'\"'\"', open)(__file__) if os.path.exists(__file__) else io.StringIO('\"'\"'from setuptools import setup; setup()'\"'\"');code = f.read().replace('\"'\"'\\r\\n'\"'\"', '\"'\"'\\n'\"'\"');f.close();exec(compile(code, __file__, '\"'\"'exec'\"'\"'))' install --record 'C:\\Users\\Lenovo\\AppData\\Local\\Temp\\pip-record-43ooj6g_\\install-record.txt' --single-version-externally-managed --compile --install-headers 'c:\\users\\lenovo\\appdata\\local\\programs\\python\\python37\\Include\\pystemmer'\n",
      "         cwd: C:\\Users\\Lenovo\\AppData\\Local\\Temp\\pip-install-fb5xpuv1\\pystemmer_9a62d142f8ef4ba8baab4e340a1a9c35\\\n",
      "    Complete output (8 lines):\n",
      "    c:\\users\\lenovo\\appdata\\local\\programs\\python\\python37\\lib\\site-packages\\setuptools\\installer.py:30: SetuptoolsDeprecationWarning: setuptools.installer is deprecated. Requirements should be satisfied by a PEP 517 installer.\n",
      "      SetuptoolsDeprecationWarning,\n",
      "    running install\n",
      "    c:\\users\\lenovo\\appdata\\local\\programs\\python\\python37\\lib\\site-packages\\setuptools\\command\\install.py:37: SetuptoolsDeprecationWarning: setup.py install is deprecated. Use build and pip and other standards-based tools.\n",
      "      setuptools.SetuptoolsDeprecationWarning,\n",
      "    running build\n",
      "    running build_ext\n",
      "    error: Microsoft Visual C++ 14.0 or greater is required. Get it with \"Microsoft C++ Build Tools\": https://visualstudio.microsoft.com/visual-cpp-build-tools/\n",
      "    ----------------------------------------\n",
      "ERROR: Command errored out with exit status 1: 'c:\\users\\lenovo\\appdata\\local\\programs\\python\\python37\\python.exe' -u -c 'import io, os, sys, setuptools, tokenize; sys.argv[0] = '\"'\"'C:\\\\Users\\\\Lenovo\\\\AppData\\\\Local\\\\Temp\\\\pip-install-fb5xpuv1\\\\pystemmer_9a62d142f8ef4ba8baab4e340a1a9c35\\\\setup.py'\"'\"'; __file__='\"'\"'C:\\\\Users\\\\Lenovo\\\\AppData\\\\Local\\\\Temp\\\\pip-install-fb5xpuv1\\\\pystemmer_9a62d142f8ef4ba8baab4e340a1a9c35\\\\setup.py'\"'\"';f = getattr(tokenize, '\"'\"'open'\"'\"', open)(__file__) if os.path.exists(__file__) else io.StringIO('\"'\"'from setuptools import setup; setup()'\"'\"');code = f.read().replace('\"'\"'\\r\\n'\"'\"', '\"'\"'\\n'\"'\"');f.close();exec(compile(code, __file__, '\"'\"'exec'\"'\"'))' install --record 'C:\\Users\\Lenovo\\AppData\\Local\\Temp\\pip-record-43ooj6g_\\install-record.txt' --single-version-externally-managed --compile --install-headers 'c:\\users\\lenovo\\appdata\\local\\programs\\python\\python37\\Include\\pystemmer' Check the logs for full command output.\n",
      "WARNING: You are using pip version 21.3.1; however, version 22.0.4 is available.\n",
      "You should consider upgrading via the 'c:\\users\\lenovo\\appdata\\local\\programs\\python\\python37\\python.exe -m pip install --upgrade pip' command.\n"
     ]
    }
   ],
   "source": [
    "!pip install pyarabic\n",
    "!pip install emoji\n",
    "!pip install pystemmer"
   ]
  },
  {
   "cell_type": "code",
   "execution_count": 29,
   "metadata": {},
   "outputs": [
    {
     "name": "stdout",
     "output_type": "stream",
     "text": [
      "Collecting clean-text\n",
      "  Downloading clean_text-0.6.0-py3-none-any.whl (11 kB)\n",
      "Requirement already satisfied: emoji<2.0.0,>=1.0.0 in c:\\users\\lenovo\\appdata\\local\\programs\\python\\python37\\lib\\site-packages (from clean-text) (1.7.0)\n",
      "Collecting ftfy<7.0,>=6.0\n",
      "  Downloading ftfy-6.1.1-py3-none-any.whl (53 kB)\n",
      "Collecting wcwidth>=0.2.5\n",
      "  Downloading wcwidth-0.2.5-py2.py3-none-any.whl (30 kB)\n",
      "Installing collected packages: wcwidth, ftfy, clean-text\n",
      "  Attempting uninstall: wcwidth\n",
      "    Found existing installation: wcwidth 0.1.9\n",
      "    Uninstalling wcwidth-0.1.9:\n",
      "      Successfully uninstalled wcwidth-0.1.9\n",
      "Successfully installed clean-text-0.6.0 ftfy-6.1.1 wcwidth-0.2.5\n",
      "Note: you may need to restart the kernel to use updated packages.\n"
     ]
    },
    {
     "name": "stderr",
     "output_type": "stream",
     "text": [
      "WARNING: You are using pip version 21.3.1; however, version 22.0.4 is available.\n",
      "You should consider upgrading via the 'C:\\Users\\Lenovo\\AppData\\Local\\Programs\\Python\\Python37\\python.exe -m pip install --upgrade pip' command.\n"
     ]
    }
   ],
   "source": [
    "pip install clean-text\n"
   ]
  },
  {
   "cell_type": "code",
   "execution_count": 1,
   "metadata": {},
   "outputs": [
    {
     "name": "stderr",
     "output_type": "stream",
     "text": [
      "Since the GPL-licensed package `unidecode` is not installed, using Python's `unicodedata` package which yields worse results.\n"
     ]
    }
   ],
   "source": [
    "import pandas as pd\n",
    "import numpy as np\n",
    "import matplotlib.pyplot as plt\n",
    "import string\n",
    "import re\n",
    "import pyarabic.araby as araby\n",
    "import re , emoji, functools, operator, string\n",
    "from cleantext import clean\n",
    "\n",
    "from nltk.corpus import stopwords"
   ]
  },
  {
   "cell_type": "code",
   "execution_count": 72,
   "metadata": {},
   "outputs": [
    {
     "data": {
      "text/html": [
       "<div>\n",
       "<style scoped>\n",
       "    .dataframe tbody tr th:only-of-type {\n",
       "        vertical-align: middle;\n",
       "    }\n",
       "\n",
       "    .dataframe tbody tr th {\n",
       "        vertical-align: top;\n",
       "    }\n",
       "\n",
       "    .dataframe thead th {\n",
       "        text-align: right;\n",
       "    }\n",
       "</style>\n",
       "<table border=\"1\" class=\"dataframe\">\n",
       "  <thead>\n",
       "    <tr style=\"text-align: right;\">\n",
       "      <th></th>\n",
       "      <th>id</th>\n",
       "      <th>dialect</th>\n",
       "      <th>text</th>\n",
       "    </tr>\n",
       "  </thead>\n",
       "  <tbody>\n",
       "    <tr>\n",
       "      <th>0</th>\n",
       "      <td>1175358310087892992</td>\n",
       "      <td>IQ</td>\n",
       "      <td>@Nw8ieJUwaCAAreT لكن بالنهاية .. ينتفض .. يغير .</td>\n",
       "    </tr>\n",
       "    <tr>\n",
       "      <th>1</th>\n",
       "      <td>1175416117793349632</td>\n",
       "      <td>IQ</td>\n",
       "      <td>@7zNqXP0yrODdRjK يعني هذا محسوب على البشر .. ح...</td>\n",
       "    </tr>\n",
       "    <tr>\n",
       "      <th>2</th>\n",
       "      <td>1175450108898565888</td>\n",
       "      <td>IQ</td>\n",
       "      <td>@KanaanRema مبين من كلامه خليجي</td>\n",
       "    </tr>\n",
       "    <tr>\n",
       "      <th>3</th>\n",
       "      <td>1175471073770573824</td>\n",
       "      <td>IQ</td>\n",
       "      <td>@HAIDER76128900 يسلملي مرورك وروحك الحلوه💐</td>\n",
       "    </tr>\n",
       "    <tr>\n",
       "      <th>4</th>\n",
       "      <td>1175496913145217024</td>\n",
       "      <td>IQ</td>\n",
       "      <td>@hmo2406 وين هل الغيبه  اخ محمد 🌸🌺</td>\n",
       "    </tr>\n",
       "    <tr>\n",
       "      <th>5</th>\n",
       "      <td>1175668034146643968</td>\n",
       "      <td>IQ</td>\n",
       "      <td>@Badi9595 @KanaanRema يااخي الإرهابي اذا كان ع...</td>\n",
       "    </tr>\n",
       "    <tr>\n",
       "      <th>6</th>\n",
       "      <td>1175670153884983296</td>\n",
       "      <td>IQ</td>\n",
       "      <td>@SarahNadhum90 @nUBNTdfVgACYQxV مطلبي يقدم است...</td>\n",
       "    </tr>\n",
       "    <tr>\n",
       "      <th>7</th>\n",
       "      <td>1175671762580856832</td>\n",
       "      <td>IQ</td>\n",
       "      <td>@KanaanRema @Badi9595 خلص والله لعيونكم انا ما...</td>\n",
       "    </tr>\n",
       "    <tr>\n",
       "      <th>8</th>\n",
       "      <td>1175715664398561280</td>\n",
       "      <td>IQ</td>\n",
       "      <td>@SalahAlarbawi يمكن سؤال فات الكثير اللي يصور ...</td>\n",
       "    </tr>\n",
       "    <tr>\n",
       "      <th>9</th>\n",
       "      <td>1176019816072777728</td>\n",
       "      <td>IQ</td>\n",
       "      <td>@Eng_alow91 @cb4LwpWrS1hT5lb @EdyCohen اولا ان...</td>\n",
       "    </tr>\n",
       "  </tbody>\n",
       "</table>\n",
       "</div>"
      ],
      "text/plain": [
       "                    id dialect  \\\n",
       "0  1175358310087892992      IQ   \n",
       "1  1175416117793349632      IQ   \n",
       "2  1175450108898565888      IQ   \n",
       "3  1175471073770573824      IQ   \n",
       "4  1175496913145217024      IQ   \n",
       "5  1175668034146643968      IQ   \n",
       "6  1175670153884983296      IQ   \n",
       "7  1175671762580856832      IQ   \n",
       "8  1175715664398561280      IQ   \n",
       "9  1176019816072777728      IQ   \n",
       "\n",
       "                                                text  \n",
       "0   @Nw8ieJUwaCAAreT لكن بالنهاية .. ينتفض .. يغير .  \n",
       "1  @7zNqXP0yrODdRjK يعني هذا محسوب على البشر .. ح...  \n",
       "2                    @KanaanRema مبين من كلامه خليجي  \n",
       "3         @HAIDER76128900 يسلملي مرورك وروحك الحلوه💐  \n",
       "4                 @hmo2406 وين هل الغيبه  اخ محمد 🌸🌺  \n",
       "5  @Badi9595 @KanaanRema يااخي الإرهابي اذا كان ع...  \n",
       "6  @SarahNadhum90 @nUBNTdfVgACYQxV مطلبي يقدم است...  \n",
       "7  @KanaanRema @Badi9595 خلص والله لعيونكم انا ما...  \n",
       "8  @SalahAlarbawi يمكن سؤال فات الكثير اللي يصور ...  \n",
       "9  @Eng_alow91 @cb4LwpWrS1hT5lb @EdyCohen اولا ان...  "
      ]
     },
     "execution_count": 72,
     "metadata": {},
     "output_type": "execute_result"
    }
   ],
   "source": [
    "data=pd.read_csv('dialect_dataset with text.csv')\n",
    "data = data.iloc[: , 1:]\n",
    "data.head(10)\n"
   ]
  },
  {
   "cell_type": "code",
   "execution_count": 3,
   "metadata": {},
   "outputs": [
    {
     "data": {
      "text/plain": [
       "id         0\n",
       "dialect    0\n",
       "text       0\n",
       "dtype: int64"
      ]
     },
     "execution_count": 3,
     "metadata": {},
     "output_type": "execute_result"
    }
   ],
   "source": [
    "data.isna().sum()"
   ]
  },
  {
   "cell_type": "code",
   "execution_count": 4,
   "metadata": {},
   "outputs": [
    {
     "name": "stdout",
     "output_type": "stream",
     "text": [
      "EG    57636\n",
      "PL    43742\n",
      "KW    42109\n",
      "LY    36499\n",
      "QA    31069\n",
      "JO    27921\n",
      "LB    27617\n",
      "SA    26832\n",
      "AE    26296\n",
      "BH    26292\n",
      "OM    19116\n",
      "SY    16242\n",
      "DZ    16183\n",
      "IQ    15497\n",
      "SD    14434\n",
      "MA    11539\n",
      "YE     9927\n",
      "TN     9246\n",
      "Name: dialect, dtype: int64\n"
     ]
    }
   ],
   "source": [
    "print(data['dialect'].value_counts())"
   ]
  },
  {
   "cell_type": "code",
   "execution_count": 73,
   "metadata": {},
   "outputs": [],
   "source": [
    "# st =  Stemmer.Stemmer('arabic')\n",
    "\n",
    "def data_preprocessing(text):\n",
    "    # remove punctuations\n",
    "    translator = str.maketrans('', '', string.punctuation)\n",
    "    text = text.translate(translator)\n",
    "    #remove all egnlish words\n",
    "    text = re.sub(r'\\s*[a-zA-Z0-9]+\\b', '',text)\n",
    "    text = re.sub(r\"$\\d+\\W+|\\b\\d+\\b|\\W+\\d+$\", \"\", text)\n",
    "    text = re.sub(r'\\s+', ' ', text)\n",
    "    text = re.sub(\"(\\s\\d+)\",\"\",text)\n",
    "    text = re.sub(r'[^\\w\\s]', '', text)\n",
    "    # remove Tashkeel\n",
    "    text = araby.strip_tashkeel(text)\n",
    "    text = araby.strip_tatweel(text)\n",
    "    text = araby.strip_diacritics(text)\n",
    "    text = text.replace(\"آ\", \"ا\")\n",
    "    text = text.replace(\"إ\", \"ا\")\n",
    "    text = text.replace(\"أ\", \"ا\")\n",
    "    text = text.replace(\"ؤ\", \"و\")\n",
    "    text = text.replace(\"ئ\", \"ي\")\n",
    "    text = text.replace('؟','')\n",
    "    \n",
    "    return text\n",
    "    "
   ]
  },
  {
   "cell_type": "code",
   "execution_count": 74,
   "metadata": {},
   "outputs": [
    {
     "data": {
      "text/html": [
       "<div>\n",
       "<style scoped>\n",
       "    .dataframe tbody tr th:only-of-type {\n",
       "        vertical-align: middle;\n",
       "    }\n",
       "\n",
       "    .dataframe tbody tr th {\n",
       "        vertical-align: top;\n",
       "    }\n",
       "\n",
       "    .dataframe thead th {\n",
       "        text-align: right;\n",
       "    }\n",
       "</style>\n",
       "<table border=\"1\" class=\"dataframe\">\n",
       "  <thead>\n",
       "    <tr style=\"text-align: right;\">\n",
       "      <th></th>\n",
       "      <th>id</th>\n",
       "      <th>dialect</th>\n",
       "      <th>text</th>\n",
       "    </tr>\n",
       "  </thead>\n",
       "  <tbody>\n",
       "    <tr>\n",
       "      <th>0</th>\n",
       "      <td>1175358310087892992</td>\n",
       "      <td>IQ</td>\n",
       "      <td>لكن بالنهاية ينتفض يغير</td>\n",
       "    </tr>\n",
       "    <tr>\n",
       "      <th>1</th>\n",
       "      <td>1175416117793349632</td>\n",
       "      <td>IQ</td>\n",
       "      <td>يعني هذا محسوب على البشر حيونه ووحشيه وتطلبون...</td>\n",
       "    </tr>\n",
       "    <tr>\n",
       "      <th>2</th>\n",
       "      <td>1175450108898565888</td>\n",
       "      <td>IQ</td>\n",
       "      <td>مبين من كلامه خليجي</td>\n",
       "    </tr>\n",
       "    <tr>\n",
       "      <th>3</th>\n",
       "      <td>1175471073770573824</td>\n",
       "      <td>IQ</td>\n",
       "      <td>يسلملي مرورك وروحك الحلوه</td>\n",
       "    </tr>\n",
       "    <tr>\n",
       "      <th>4</th>\n",
       "      <td>1175496913145217024</td>\n",
       "      <td>IQ</td>\n",
       "      <td>وين هل الغيبه اخ محمد</td>\n",
       "    </tr>\n",
       "  </tbody>\n",
       "</table>\n",
       "</div>"
      ],
      "text/plain": [
       "                    id dialect  \\\n",
       "0  1175358310087892992      IQ   \n",
       "1  1175416117793349632      IQ   \n",
       "2  1175450108898565888      IQ   \n",
       "3  1175471073770573824      IQ   \n",
       "4  1175496913145217024      IQ   \n",
       "\n",
       "                                                text  \n",
       "0                           لكن بالنهاية ينتفض يغير   \n",
       "1   يعني هذا محسوب على البشر حيونه ووحشيه وتطلبون...  \n",
       "2                                مبين من كلامه خليجي  \n",
       "3                          يسلملي مرورك وروحك الحلوه  \n",
       "4                             وين هل الغيبه اخ محمد   "
      ]
     },
     "execution_count": 74,
     "metadata": {},
     "output_type": "execute_result"
    }
   ],
   "source": [
    "data['text'] = data['text'].apply(lambda x : data_preprocessing(x))\n",
    "data.head()\n"
   ]
  },
  {
   "cell_type": "code",
   "execution_count": null,
   "metadata": {},
   "outputs": [],
   "source": []
  },
  {
   "cell_type": "code",
   "execution_count": null,
   "metadata": {},
   "outputs": [],
   "source": []
  },
  {
   "cell_type": "code",
   "execution_count": 7,
   "metadata": {},
   "outputs": [
    {
     "data": {
      "text/plain": [
       "0          @Nw8ieJUwaCAAreT لكن بالنهاية .. ينتفض .. يغير .\n",
       "1         @7zNqXP0yrODdRjK يعني هذا محسوب على البشر .. ح...\n",
       "2                           @KanaanRema مبين من كلامه خليجي\n",
       "3                @HAIDER76128900 يسلملي مرورك وروحك الحلوه💐\n",
       "4                        @hmo2406 وين هل الغيبه  اخ محمد 🌸🌺\n",
       "                                ...                        \n",
       "458192                @Al_mhbaa_7 مبسوطين منك اللي باسطانا😅\n",
       "458193         @Zzainabali @P_ameerah والله ماينده ابش يختي\n",
       "458194    @Al_mhbaa_7 شو عملنا لك حنا تهربي مننا احنا مس...\n",
       "458195          @haneenalmwla الله يبارك فيها وبالعافيه 😋😋😋\n",
       "458196            @jolnar121 السحله ضيفي ي بتطلع لك سحليه😅😅\n",
       "Name: text, Length: 458197, dtype: object"
      ]
     },
     "execution_count": 7,
     "metadata": {},
     "output_type": "execute_result"
    }
   ],
   "source": [
    "data['text']"
   ]
  }
 ],
 "metadata": {
  "interpreter": {
   "hash": "8f588a5af2c4e87636181920acd83d9c618abfa0f1d05f40581c4cb3071c3472"
  },
  "kernelspec": {
   "display_name": "Python 3.7.1 64-bit",
   "language": "python",
   "name": "python3"
  },
  "language_info": {
   "codemirror_mode": {
    "name": "ipython",
    "version": 3
   },
   "file_extension": ".py",
   "mimetype": "text/x-python",
   "name": "python",
   "nbconvert_exporter": "python",
   "pygments_lexer": "ipython3",
   "version": "3.7.1"
  },
  "orig_nbformat": 4
 },
 "nbformat": 4,
 "nbformat_minor": 2
}
